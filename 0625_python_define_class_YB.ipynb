{
  "nbformat": 4,
  "nbformat_minor": 0,
  "metadata": {
    "colab": {
      "provenance": [],
      "authorship_tag": "ABX9TyMg1/bQkaFXcWylPV3b546z",
      "include_colab_link": true
    },
    "kernelspec": {
      "name": "python3",
      "display_name": "Python 3"
    },
    "language_info": {
      "name": "python"
    }
  },
  "cells": [
    {
      "cell_type": "markdown",
      "metadata": {
        "id": "view-in-github",
        "colab_type": "text"
      },
      "source": [
        "<a href=\"https://colab.research.google.com/github/Alex-Jung-HB/0625_Python_YB-Jung/blob/main/0625_python_define_class_YB.ipynb\" target=\"_parent\"><img src=\"https://colab.research.google.com/assets/colab-badge.svg\" alt=\"Open In Colab\"/></a>"
      ]
    },
    {
      "cell_type": "code",
      "execution_count": 2,
      "metadata": {
        "colab": {
          "base_uri": "https://localhost:8080/"
        },
        "id": "W8Xp_DV0fxiO",
        "outputId": "be9d5988-c649-4d4a-b3fd-17ec185608a9"
      },
      "outputs": [
        {
          "output_type": "stream",
          "name": "stdout",
          "text": [
            "안녕하세요!\n"
          ]
        }
      ],
      "source": [
        "def say_hello():\n",
        "  print(\"안녕하세요!\")\n",
        "\n",
        "say_hello()"
      ]
    },
    {
      "cell_type": "code",
      "source": [
        "def add(a, b):\n",
        "  return a+b\n",
        "\n",
        "add(3,7)\n"
      ],
      "metadata": {
        "colab": {
          "base_uri": "https://localhost:8080/"
        },
        "id": "A4DbNXVEkj_Y",
        "outputId": "86a757b5-bd43-4326-b6f4-f934ab776a4c"
      },
      "execution_count": 3,
      "outputs": [
        {
          "output_type": "execute_result",
          "data": {
            "text/plain": [
              "10"
            ]
          },
          "metadata": {},
          "execution_count": 3
        }
      ]
    },
    {
      "cell_type": "code",
      "source": [
        "def is_even(n):\n",
        "  return n % 2 == 0\n",
        "\n",
        "is_even(127)"
      ],
      "metadata": {
        "colab": {
          "base_uri": "https://localhost:8080/"
        },
        "id": "sOtwI6P1k2l-",
        "outputId": "1e698cfc-8f8b-43a6-d772-4001e2d42995"
      },
      "execution_count": 7,
      "outputs": [
        {
          "output_type": "execute_result",
          "data": {
            "text/plain": [
              "False"
            ]
          },
          "metadata": {},
          "execution_count": 7
        }
      ]
    },
    {
      "cell_type": "code",
      "source": [
        "def get_average(numbers):\n",
        "  total = sum(numbers)\n",
        "  return total / len(numbers)\n",
        "\n",
        "numbers = [1, 2, 3, 4, 5]\n",
        "get_average(numbers)\n"
      ],
      "metadata": {
        "colab": {
          "base_uri": "https://localhost:8080/"
        },
        "id": "VtZ-HejrlhIl",
        "outputId": "6e2d4e31-5ed3-4320-8040-c9e17ec1f69a"
      },
      "execution_count": 16,
      "outputs": [
        {
          "output_type": "execute_result",
          "data": {
            "text/plain": [
              "3.0"
            ]
          },
          "metadata": {},
          "execution_count": 16
        }
      ]
    },
    {
      "cell_type": "code",
      "source": [
        "def greet(name):\n",
        "    print(f\"{name}님, 환영합니다!\")\n",
        "\n",
        "greet(\"정영배\")"
      ],
      "metadata": {
        "colab": {
          "base_uri": "https://localhost:8080/"
        },
        "id": "cbRWzDv8nCmH",
        "outputId": "73b33aea-2056-4633-cfe4-db2841a98e18"
      },
      "execution_count": 26,
      "outputs": [
        {
          "output_type": "stream",
          "name": "stdout",
          "text": [
            "정영배님, 환영합니다!\n"
          ]
        }
      ]
    },
    {
      "cell_type": "code",
      "source": [
        "def draw_boxes(img, boxes, conf, cls):\n",
        "    for i, (x1, y1, x2, y2) in enumerate(boxes):\n",
        "        if conf[i] > 0.5:\n",
        "            cv2.rectangle(img, (int(x1), int(y1)), (int(x2), int(y2)), (0, 255, 0), 2)\n",
        "            cv2.putText(img, f'{cls[i]}: {conf[i]:.2f}', (int(x1), int(y1)-10),\n",
        "                       cv2.FONT_HERSHEY_SIMPLEX, 0.5, (0, 255, 0), 2)\n",
        "    return img\n",
        "\n",
        "img = cv2.imread(\"example.jpg\")\n",
        "boxes = [(50, 100, 200, 300)]\n",
        "conf = [0.85]\n",
        "cls = [\"person\"]\n",
        "\n",
        "img = draw_boxes(img, boxes, conf, cls)\n",
        "cv2.imshow(\"result\", img)\n",
        "cv2.waitKey(0)"
      ],
      "metadata": {
        "colab": {
          "base_uri": "https://localhost:8080/",
          "height": 219
        },
        "id": "Ipc6ZiZ_nZ9I",
        "outputId": "414d5151-da8b-4527-c744-df9c6c184280"
      },
      "execution_count": 28,
      "outputs": [
        {
          "output_type": "error",
          "ename": "NameError",
          "evalue": "name 'cv2' is not defined",
          "traceback": [
            "\u001b[0;31m---------------------------------------------------------------------------\u001b[0m",
            "\u001b[0;31mNameError\u001b[0m                                 Traceback (most recent call last)",
            "\u001b[0;32m/tmp/ipython-input-28-2486630551.py\u001b[0m in \u001b[0;36m<cell line: 0>\u001b[0;34m()\u001b[0m\n\u001b[1;32m      7\u001b[0m     \u001b[0;32mreturn\u001b[0m \u001b[0mimg\u001b[0m\u001b[0;34m\u001b[0m\u001b[0;34m\u001b[0m\u001b[0m\n\u001b[1;32m      8\u001b[0m \u001b[0;34m\u001b[0m\u001b[0m\n\u001b[0;32m----> 9\u001b[0;31m \u001b[0mimg\u001b[0m \u001b[0;34m=\u001b[0m \u001b[0mcv2\u001b[0m\u001b[0;34m.\u001b[0m\u001b[0mimread\u001b[0m\u001b[0;34m(\u001b[0m\u001b[0;34m\"example.jpg\"\u001b[0m\u001b[0;34m)\u001b[0m\u001b[0;34m\u001b[0m\u001b[0;34m\u001b[0m\u001b[0m\n\u001b[0m\u001b[1;32m     10\u001b[0m \u001b[0mboxes\u001b[0m \u001b[0;34m=\u001b[0m \u001b[0;34m[\u001b[0m\u001b[0;34m(\u001b[0m\u001b[0;36m50\u001b[0m\u001b[0;34m,\u001b[0m \u001b[0;36m100\u001b[0m\u001b[0;34m,\u001b[0m \u001b[0;36m200\u001b[0m\u001b[0;34m,\u001b[0m \u001b[0;36m300\u001b[0m\u001b[0;34m)\u001b[0m\u001b[0;34m]\u001b[0m\u001b[0;34m\u001b[0m\u001b[0;34m\u001b[0m\u001b[0m\n\u001b[1;32m     11\u001b[0m \u001b[0mconf\u001b[0m \u001b[0;34m=\u001b[0m \u001b[0;34m[\u001b[0m\u001b[0;36m0.85\u001b[0m\u001b[0;34m]\u001b[0m\u001b[0;34m\u001b[0m\u001b[0;34m\u001b[0m\u001b[0m\n",
            "\u001b[0;31mNameError\u001b[0m: name 'cv2' is not defined"
          ]
        }
      ]
    },
    {
      "cell_type": "code",
      "source": [
        "class Person:\n",
        "    def __init__(self, name, age):\n",
        "        self.name = name\n",
        "        self.age = age\n",
        "\n",
        "    def greet(self):\n",
        "        print(f\"안녕하세요, 저는 {self.name}이고 {self.age}살입니다.\")\n",
        "\n",
        "p1 = Person(\"정교수\", 45)\n",
        "p1.greet()"
      ],
      "metadata": {
        "colab": {
          "base_uri": "https://localhost:8080/"
        },
        "id": "KYXfNKJgqnAK",
        "outputId": "794bba75-4244-44c0-8923-3afc853e2c23"
      },
      "execution_count": 38,
      "outputs": [
        {
          "output_type": "stream",
          "name": "stdout",
          "text": [
            "안녕하세요, 저는 정교수이고 45살입니다.\n"
          ]
        }
      ]
    },
    {
      "cell_type": "code",
      "source": [
        "class velocity_alarm:\n",
        "  def __init__(self,v1, v2):\n",
        "    self.v1 = v1\n",
        "    self.v2 = v2\n",
        "\n",
        "  def message(self):\n",
        "    print(f\"현재 속도는 {self.v1}입니다. 규정속도는 {self.v2}입니다\")\n",
        "\n",
        "V1 = velocity_alarm(100, 80)\n",
        "V1.message()"
      ],
      "metadata": {
        "colab": {
          "base_uri": "https://localhost:8080/"
        },
        "id": "Kao2G6pVsprZ",
        "outputId": "5c0cc54c-2d74-4e70-f2d8-8d810b6fe243"
      },
      "execution_count": 43,
      "outputs": [
        {
          "output_type": "stream",
          "name": "stdout",
          "text": [
            "현재 속도는 100입니다. 규정속도는 80입니다\n"
          ]
        }
      ]
    },
    {
      "cell_type": "code",
      "source": [
        "class velocity_limit:\n",
        "  def __init__(self, v1, v2):\n",
        "    self.v1 = v1\n",
        "    self.v2 = v2\n",
        "\n",
        "  def message(self):\n",
        "       print(\"규정속도 위반!\" if self.v1 >= self.v2 else \"규정속도 미만!\")\n",
        "\n",
        "v = velocity_limit(60, 80)\n",
        "v.message()"
      ],
      "metadata": {
        "colab": {
          "base_uri": "https://localhost:8080/"
        },
        "id": "qwOCnz_PuJm8",
        "outputId": "ecae2f4a-8366-4da7-a142-a865c75a1056"
      },
      "execution_count": 75,
      "outputs": [
        {
          "output_type": "stream",
          "name": "stdout",
          "text": [
            "규정속도 미만!\n"
          ]
        }
      ]
    },
    {
      "cell_type": "code",
      "source": [
        "password = \"\"\n",
        "\n",
        "while password != \"1234\":\n",
        "    password = input(\"암호를 입력하세요: \")\n",
        "\n",
        "print(\"접속 성공!\")"
      ],
      "metadata": {
        "colab": {
          "base_uri": "https://localhost:8080/"
        },
        "id": "lHAE_4Dv1p_D",
        "outputId": "20df5b0e-c1e4-4eb9-e487-463280fb4f6c"
      },
      "execution_count": 78,
      "outputs": [
        {
          "output_type": "stream",
          "name": "stdout",
          "text": [
            "암호를 입력하세요: 1234\n",
            "접속 성공!\n"
          ]
        }
      ]
    },
    {
      "cell_type": "code",
      "source": [
        "n = float(input(\"장애물까지의 거리를 입력하세요 (m): \"))\n",
        "distances = [n]\n",
        "for n in distances:\n",
        "  print(f\"전방의 장애물이 {d}m에 있습니다!\")"
      ],
      "metadata": {
        "colab": {
          "base_uri": "https://localhost:8080/"
        },
        "id": "jApLhVlq61K1",
        "outputId": "3869edc7-71b1-4bb1-89a5-d2e5d9207d80"
      },
      "execution_count": 82,
      "outputs": [
        {
          "output_type": "stream",
          "name": "stdout",
          "text": [
            "장애물까지의 거리를 입력하세요 (m): 5\n",
            "전방의 장애물이 5m에 있습니다!\n"
          ]
        }
      ]
    },
    {
      "cell_type": "code",
      "source": [
        "fruits = [\"apple\", \"banana\", \"cherry\"]\n",
        "\n",
        "for i, fruit in enumerate(fruits):\n",
        "    print(i, fruit)"
      ],
      "metadata": {
        "colab": {
          "base_uri": "https://localhost:8080/"
        },
        "id": "Z1ZsSe0o8c5v",
        "outputId": "14407742-b357-4efc-f717-e36b238c2dbd"
      },
      "execution_count": 85,
      "outputs": [
        {
          "output_type": "stream",
          "name": "stdout",
          "text": [
            "0 apple\n",
            "1 banana\n",
            "2 cherry\n"
          ]
        }
      ]
    },
    {
      "cell_type": "code",
      "source": [
        "n = input(\"행선지를 입력하세요!: \")\n",
        "destinations = [\"서울\", \"대전\", \"대구\", \"부산\", \"인천\"]\n",
        "\n",
        "for city in destinations:\n",
        "  if n in city:\n",
        "     print(f\"{n} 방향으로 고속도로 주행모드로 운행합니다!\")\n",
        "     found = True\n",
        "else:\n",
        "     print(f\"{n}은(는) 고속도로 경로가 아닙니다. 일반 도로 모드로 운행합니다.\")"
      ],
      "metadata": {
        "colab": {
          "base_uri": "https://localhost:8080/"
        },
        "id": "g6tOiP4H-G4c",
        "outputId": "23c35d4a-435e-4b7d-fabe-57e0432f577c"
      },
      "execution_count": 92,
      "outputs": [
        {
          "output_type": "stream",
          "name": "stdout",
          "text": [
            "행선지를 입력하세요!: 대구\n",
            "대구 방향으로 고속도로 주행모드로 운행합니다!\n",
            "대구은(는) 고속도로 경로가 아닙니다. 일반 도로 모드로 운행합니다.\n"
          ]
        }
      ]
    }
  ]
}